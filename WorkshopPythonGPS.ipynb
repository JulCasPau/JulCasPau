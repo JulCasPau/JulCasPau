{
  "nbformat": 4,
  "nbformat_minor": 0,
  "metadata": {
    "colab": {
      "provenance": [],
      "collapsed_sections": [
        "Ae90mUdjXKqS",
        "RVvKdfnDaTO-",
        "Q9wwFfYgaZgL",
        "RhlMSRNzay7N",
        "eycfBaOYfrNV",
        "9n5pMR2p_KNQ",
        "AnpgO_4Ifzux",
        "iqnIx5-QgRzk",
        "woAtvsxi4QSC"
      ],
      "include_colab_link": true
    },
    "kernelspec": {
      "name": "python3",
      "display_name": "Python 3"
    },
    "language_info": {
      "name": "python"
    }
  },
  "cells": [
    {
      "cell_type": "markdown",
      "metadata": {
        "id": "view-in-github",
        "colab_type": "text"
      },
      "source": [
        "<a href=\"https://colab.research.google.com/github/JulCasPau/JulCasPau/blob/main/WorkshopPythonGPS.ipynb\" target=\"_parent\"><img src=\"https://colab.research.google.com/assets/colab-badge.svg\" alt=\"Open In Colab\"/></a>"
      ]
    },
    {
      "cell_type": "markdown",
      "source": [
        "# Introdução à programação em Python para tratamento de dados GPS: Dimensão física e tática"
      ],
      "metadata": {
        "id": "kv0UspjlQfKH"
      }
    },
    {
      "cell_type": "markdown",
      "source": [
        "## Módulo 1 - Introdução Python"
      ],
      "metadata": {
        "id": "QbDOdoKDRWtP"
      }
    },
    {
      "cell_type": "code",
      "metadata": {
        "id": "0mwG4f-xanVt",
        "colab": {
          "base_uri": "https://localhost:8080/"
        },
        "outputId": "99a889b1-2301-42f7-abfb-039814fd32c8"
      },
      "source": [
        "#Imprimir no ecrã a frase Olá Python!\n",
        "print(\"Olá Python\")\n"
      ],
      "execution_count": null,
      "outputs": [
        {
          "output_type": "stream",
          "name": "stdout",
          "text": [
            "Olá Python\n"
          ]
        }
      ]
    },
    {
      "cell_type": "markdown",
      "source": [
        "#### Exemplo"
      ],
      "metadata": {
        "id": "BHTWMz3Iv4zA"
      }
    },
    {
      "cell_type": "code",
      "metadata": {
        "id": "OFsy3kgcJOKO"
      },
      "source": [
        "#Ex1. Imprima o seu nome no ecrã\n"
      ],
      "execution_count": null,
      "outputs": []
    },
    {
      "cell_type": "markdown",
      "source": [
        "### Matemática"
      ],
      "metadata": {
        "id": "KgLoUTT_v4Cc"
      }
    },
    {
      "cell_type": "code",
      "metadata": {
        "id": "07Zoi4NRJVdS",
        "colab": {
          "base_uri": "https://localhost:8080/"
        },
        "outputId": "202aa8a1-d53e-4e36-9cf8-a6def937d446"
      },
      "source": [
        "#Matemática - 2 + 3 = 5\n",
        "print(2+3)\n",
        "print(4+5)\n",
        "print('2'+'3')"
      ],
      "execution_count": null,
      "outputs": [
        {
          "output_type": "stream",
          "name": "stdout",
          "text": [
            "5\n",
            "9\n",
            "23\n"
          ]
        }
      ]
    },
    {
      "cell_type": "markdown",
      "source": [
        "#### Exercício"
      ],
      "metadata": {
        "id": "G3-AFFo-wMx3"
      }
    },
    {
      "cell_type": "code",
      "source": [
        "#Ex2. Apresente a soma de 2 com 4\n",
        "\n",
        "\n",
        "\n",
        "#Ex3. Apresente o resultado das seguintes expressões e tente perceber o proquê 9/2 e 9//2\n",
        "\n"
      ],
      "metadata": {
        "id": "B_BMFLBgwYAj"
      },
      "execution_count": null,
      "outputs": []
    },
    {
      "cell_type": "markdown",
      "source": [
        "### Variáveis"
      ],
      "metadata": {
        "id": "_fPkVhIUwepE"
      }
    },
    {
      "cell_type": "code",
      "metadata": {
        "id": "rrnCs5-Q6EEf"
      },
      "source": [
        "a = 3\n",
        "b = 4\n",
        "c = a\n",
        "a = b\n",
        "b = c"
      ],
      "execution_count": null,
      "outputs": []
    },
    {
      "cell_type": "markdown",
      "source": [
        "#### Exercício"
      ],
      "metadata": {
        "id": "qQQQdu0JwmsZ"
      }
    },
    {
      "cell_type": "code",
      "source": [
        "#Ex4.1. Qual o valor de a, b, c?\n",
        "\n"
      ],
      "metadata": {
        "id": "KDnVx1JnwiQa"
      },
      "execution_count": null,
      "outputs": []
    },
    {
      "cell_type": "markdown",
      "metadata": {
        "id": "ITplgsLniWxH"
      },
      "source": [
        "**Tipos de dados**\n",
        "\n",
        "Em Python tudo são objetos e todos os objetos são de um determinado tipo.\n",
        "\n",
        "O Python trabalha com os seguintes tipos de dados básicos: int (números inteiros), float (números reais), str (texto), bool (booleanos - verdadeiro (True) ou falso (False)) e NoneType (tipo especial que representa a situação sem valor)\n",
        "\n",
        "Em Python não é preciso declarar de forma explicita o tipo de dados, ele próprio deduz a partir da utilização que lhe estamos a dar (Duck Typing). Em casos de desambiguação é necessário indicar o tipo de dados.\n",
        "\n",
        "**Operadores**\n",
        "\n",
        "Os operadores são símbolos especiais que representam a execução de operações sobre os operandos associados.\n",
        "\n",
        "No Python temos os seguintes operadores:\n",
        "\n",
        "**Operadores aritémticos**: \n",
        "\n",
        "+, -, , /, //, ** (expoente)\n",
        "\n",
        "Atribuição: =, +=, -=, *=\n",
        "\n",
        "Comparação (devolve true/false): ==, !=, <, <=, >, >=\n",
        "\n",
        "Outros para comparação: is, is not, in, not in, not, and, or\n",
        "\n",
        "**Precedência de operadores**\n",
        "\n",
        "Quando são utilizados múltiplos operadores em expressões é preciso ter em conta na sua utilização a precedência dos mesmos:\n",
        "\n",
        "(, )\n",
        "**\n",
        "*, /\n",
        "+, -\n",
        "<, <=, >, >=\n",
        "==, !=, is, is not, in\n",
        "not in\n",
        "not\n",
        "and\n",
        "or\n",
        "lambda\n",
        "Em caso de dúvida utilize os parentesis ( ).\n",
        "\n",
        "**Variáveis**\n",
        "\n",
        "Uma variável é um espaço em memória que é utilizado para guardar valores de um determinado tipo de dados (que podem ser referências a objetos) para ser utilizado ao longo do programa.\n",
        "\n",
        "\n"
      ]
    },
    {
      "cell_type": "code",
      "metadata": {
        "id": "ho_y3vYYWQ5s"
      },
      "source": [
        "#Ex3. Guarde o valores 4 e 5 em duas variáveis diferentes e apresentar a soma dos dois valores\n",
        "\n",
        "\n",
        "#Ex4. Crie duas variáveis para guardar os valores 9 e 3 e apresente no ecrã a soma, subtração, multiplicação e divisão\n",
        "\n",
        "\n",
        "#Ex5. Apresente no ecrã a sua idade daqui a 20 anos\n",
        "\n",
        "\n",
        "\n",
        "#Ex6. Converta o valor 15 km/h para m/s\n"
      ],
      "execution_count": null,
      "outputs": []
    },
    {
      "cell_type": "markdown",
      "metadata": {
        "id": "gKF8onjhYoTV"
      },
      "source": [
        "**Estruturas de controlo de fluxo**\n",
        "\n",
        "**Decisões (if, if...else)**\n",
        "\n",
        "As instruções de decisão permitem tomar decisões com base em condições (comparações).\n",
        "\n",
        "Existem três tipos de estrutura:\n",
        "**negrito**\n",
        "\n",
        "```\n",
        "if condicao:\n",
        "    instrucoes\n",
        "    \n",
        "if condicao:\n",
        "    instrucoes\n",
        "  else:\n",
        "    instrucoes\n",
        "\n",
        "if condicao:  \n",
        "  instrucoes\n",
        "elif condicao:\n",
        "  instrucoes\n",
        "else:\n",
        "  instrucoes\n",
        "```\n",
        "\n",
        "No Python não existem chavetas para efetuar a identificação de blocos de código. Tal é feito recorrendo à identação, pelo que é muito importante que a mesma seja feita de forma correta."
      ]
    },
    {
      "cell_type": "code",
      "metadata": {
        "id": "nNrwXABPYnu-",
        "colab": {
          "base_uri": "https://localhost:8080/"
        },
        "outputId": "2ef308e0-ded8-4b2b-99df-f94ea0ae712b"
      },
      "source": [
        "#Verificar se um número é positivo\n",
        "#testa com -2 -> não é positivo\n",
        "#testa com 3 -> positivo\n",
        "a = 3\n",
        "if a > 0:\n",
        "  print(a , \"é um número positivo\")\n",
        "else:\n",
        "  print(a , \"é um número negativo\")\n",
        "\n",
        "\n",
        "#Com base na seguinte lista de jogadores que marcaram golos durante uma época \n",
        "#apresente o total de golos por jogador\n",
        "jogadores_golos_nomes = ['A','A','G','C','G','H']\n",
        "\n",
        "for jogador in set(jogadores_golos_nomes):\n",
        "  print(jogador , jogadores_golos_nomes.count(jogador))"
      ],
      "execution_count": null,
      "outputs": [
        {
          "output_type": "stream",
          "name": "stdout",
          "text": [
            "3 é um número positivo\n",
            "G 2\n",
            "A 2\n",
            "H 1\n",
            "C 1\n"
          ]
        }
      ]
    },
    {
      "cell_type": "markdown",
      "source": [
        "#### Exercício"
      ],
      "metadata": {
        "id": "5CMoDSXyw886"
      }
    },
    {
      "cell_type": "code",
      "source": [
        "#Ex7. Com base no resultado de um jogo indique quem passa à fase seguinte, ou se o jogo vai a prolongamento\n",
        "#Teste com o resultado 8-2\n"
      ],
      "metadata": {
        "id": "tSRJqYYKw8f2"
      },
      "execution_count": null,
      "outputs": []
    },
    {
      "cell_type": "markdown",
      "source": [
        "## Módulo 2 - Análise de Dados"
      ],
      "metadata": {
        "id": "KYqz0PfzT6t6"
      }
    },
    {
      "cell_type": "markdown",
      "source": [
        "### Instalar bibliotecas"
      ],
      "metadata": {
        "id": "Ae90mUdjXKqS"
      }
    },
    {
      "cell_type": "code",
      "source": [
        "import numpy as np\n",
        "import pandas as pd\n",
        "import seaborn as sns\n",
        "from matplotlib import animation\n",
        "from matplotlib import pyplot as plt\n",
        "import math"
      ],
      "metadata": {
        "id": "nMljmYSDYXrx"
      },
      "execution_count": null,
      "outputs": []
    },
    {
      "cell_type": "markdown",
      "source": [
        "### Importar dados "
      ],
      "metadata": {
        "id": "RVvKdfnDaTO-"
      }
    },
    {
      "cell_type": "code",
      "source": [
        "dfhome = pd.read_csv('https://docs.google.com/spreadsheets/d/e/2PACX-1vRuuehB1njapesbMmqwvzMp1Nm-CIXgYCMX3kIAQKbgYX17NveQzwzK_rPYiZD0ow/pub?gid=511595070&single=true&output=csv', header=None)\n",
        "dfaway = pd.read_csv('https://docs.google.com/spreadsheets/d/e/2PACX-1vQp_aROe6xxthaV8AqeFu0JnzDSz9QfqMI3CeXjc9nXp9JrIMAFZrqYyjcO4NTBrw/pub?gid=341926844&single=true&output=csv', header=None)"
      ],
      "metadata": {
        "id": "OtBRVHZpc9yG"
      },
      "execution_count": null,
      "outputs": []
    },
    {
      "cell_type": "code",
      "source": [
        "dfhome"
      ],
      "metadata": {
        "id": "OrkPxDmtxMA4"
      },
      "execution_count": null,
      "outputs": []
    },
    {
      "cell_type": "markdown",
      "source": [
        "### Ver dados e criar variáveis"
      ],
      "metadata": {
        "id": "Q9wwFfYgaZgL"
      }
    },
    {
      "cell_type": "code",
      "metadata": {
        "id": "O5VlQ9XYGXwK"
      },
      "source": [
        "# Primeira parte equipa da casa\n",
        "dfhome1 = dfhome.iloc[27759:51544] \n",
        "# Segunda parte equipa da casa\n",
        "dfhome2 = dfhome.iloc[54659:78823] #foi colocado um frame antes para ser excluido na distância\n",
        "# Criar um dataframe com as duas partes juntas\n",
        "dfhome = pd.concat([dfhome1,dfhome2], axis=0)\n",
        "\n",
        "\n",
        "# Primeira parte equipa fora\n",
        "dfaway1 = dfaway.iloc[27759:51544] \n",
        "# Segunda parte equipa fora\n",
        "dfaway2 = dfaway.iloc[54659:78823] #foi colocado um frame antes para ser excluido na distância\n",
        "# Criar um dataframe com as duas partes juntas\n",
        "dfaway = pd.concat([dfaway1,dfaway2], axis=0)\n",
        "\n",
        "# Frames por segundo\n",
        "t = 0.1"
      ],
      "execution_count": null,
      "outputs": []
    },
    {
      "cell_type": "code",
      "metadata": {
        "id": "D676RM8ZM4Sr"
      },
      "source": [
        "dfhome.head()"
      ],
      "execution_count": null,
      "outputs": []
    },
    {
      "cell_type": "code",
      "source": [
        "dfaway.head()"
      ],
      "metadata": {
        "id": "ucs9EkT_ymSo"
      },
      "execution_count": null,
      "outputs": []
    },
    {
      "cell_type": "markdown",
      "source": [
        "### Calcular a distância e a velocidade"
      ],
      "metadata": {
        "id": "RhlMSRNzay7N"
      }
    },
    {
      "cell_type": "markdown",
      "source": [
        "![image.png](data:image/png;base64,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)\n",
        "![image.png](data:image/png;base64,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)\n"
      ],
      "metadata": {
        "id": "m7i5_cNmOOyh"
      }
    },
    {
      "cell_type": "markdown",
      "source": [
        "#### Equipa Visitante"
      ],
      "metadata": {
        "id": "Rvb2KpyCfjz4"
      }
    },
    {
      "cell_type": "code",
      "metadata": {
        "id": "husRDiHSVnKF"
      },
      "source": [
        "num_players = (len(dfaway.columns) - 2) // 2  # Retiramos as duas colunas que não são jogadores\n",
        "# Calcular a distância de cada jogador em cada frame\n",
        "player_distances = []\n",
        "for i in range(num_players):\n",
        "    x, y = dfaway.iloc[:, 2*i+2], dfaway.iloc[:, 2*i+3]\n",
        "    dist = np.sqrt((x.diff()**2 + y.diff()**2).fillna(0))\n",
        "    player_distances.append(dist)\n",
        "    \n",
        "# Converter as distâncias corridas para um Dataframe e adicionar a identificação dos jogadores\n",
        "players = [f'Player {i}' for i in range(1, num_players+1)]\n",
        "distances_dfaway = pd.concat(player_distances, axis=1)\n",
        "distances_dfaway.columns = players\n",
        "distances_dfaway.insert(0, 'Frame', dfaway.iloc[:, 1])\n",
        "\n",
        "distances_dfaway = distances_dfaway.drop(54659) \n",
        "\n",
        "speed_dfaway = distances_dfaway / t\n",
        "\n",
        "speed_dfaway.plot(subplots=True, layout=(4,5))"
      ],
      "execution_count": null,
      "outputs": []
    },
    {
      "cell_type": "markdown",
      "source": [
        "#### Equipa Visitada"
      ],
      "metadata": {
        "id": "eycfBaOYfrNV"
      }
    },
    {
      "cell_type": "code",
      "source": [
        "num_players = (len(dfhome.columns) - 2) // 2  # Retiramos as duas colunas que não são jogadores\n",
        "# Calcular a distância de cada jogador em cada frame\n",
        "player_distances = []\n",
        "for i in range(num_players):\n",
        "    x, y = dfhome.iloc[:, 2*i+2], dfhome.iloc[:, 2*i+3]\n",
        "    dist = np.sqrt((x.diff()**2 + y.diff()**2).fillna(0))\n",
        "    player_distances.append(dist)\n",
        "    \n",
        "# Converter as distâncias corridas para um Dataframe e adicionar a identificação dos jogadores\n",
        "players = [f'Player {i}' for i in range(1, num_players+1)]\n",
        "distances_dfhome = pd.concat(player_distances, axis=1)\n",
        "distances_dfhome.columns = players\n",
        "distances_dfhome.insert(0, 'Frame', dfhome.iloc[:, 1])\n",
        "\n",
        "distances_dfhome = distances_dfhome.drop(54659) \n",
        "\n",
        "speed_dfhome = distances_dfhome / t\n",
        "\n",
        "speed_dfhome.plot(subplots=True, layout=(4,5))"
      ],
      "metadata": {
        "id": "dqNjKRl-UD-W"
      },
      "execution_count": null,
      "outputs": []
    },
    {
      "cell_type": "code",
      "source": [
        "distances_dfhome"
      ],
      "metadata": {
        "id": "4Uc2eTbetwO7"
      },
      "execution_count": null,
      "outputs": []
    },
    {
      "cell_type": "code",
      "source": [
        "# Calcular as distâncias precorridas em Km\n",
        "distances_dfhome2 = distances_dfhome.drop(['Frame'], axis=1)\n",
        "df2 = distances_dfhome2.sum(axis=0)\n",
        "print(round(df2/1000,2))"
      ],
      "metadata": {
        "id": "jGi1tIGrsAGA"
      },
      "execution_count": null,
      "outputs": []
    },
    {
      "cell_type": "code",
      "source": [
        "speed_dfhome"
      ],
      "metadata": {
        "id": "tXsEOn_4v1_N"
      },
      "execution_count": null,
      "outputs": []
    },
    {
      "cell_type": "code",
      "source": [
        "# Calcular a velocidade máxima atingida por atleta\n",
        "speed_dfhome2 = speed_dfhome.drop(['Frame'], axis=1)\n",
        "df2 = speed_dfhome2.max(axis=0)\n",
        "print(round(df2*3.6,2))"
      ],
      "metadata": {
        "id": "De7UCDilwN8t"
      },
      "execution_count": null,
      "outputs": []
    },
    {
      "cell_type": "code",
      "source": [
        "# Calcular a velocidade média atingida por atleta\n",
        "df2 = speed_dfhome2.mean(axis=0)\n",
        "print(round(df2*3.6,2))"
      ],
      "metadata": {
        "id": "mIQ9cTl8wy78"
      },
      "execution_count": null,
      "outputs": []
    },
    {
      "cell_type": "markdown",
      "source": [
        "### Distância para adversário mais próximo"
      ],
      "metadata": {
        "id": "9n5pMR2p_KNQ"
      }
    },
    {
      "cell_type": "code",
      "source": [
        "num_players = (len(dfhome.columns)-4) // 2\n",
        "data = dfhome\n",
        "data2 = dfaway\n",
        "\n",
        "# Extrair apenas os jogadores de campo\n",
        "player_coords = data.iloc[:, 4:].values\n",
        "\n",
        "opponent_coords = data2.iloc[:, 4:].values\n",
        "\n",
        "# Calcular a distância de todos para todos os jogadores\n",
        "opponent_dists = np.zeros((len(player_coords), num_players, num_players))\n",
        "\n",
        "for i in range(num_players):\n",
        "    for j in range(num_players):\n",
        "        dx = player_coords[:,i*2] - opponent_coords[:,j*2]\n",
        "        dy = player_coords[:,i*2+1] - opponent_coords[:,j*2+1]\n",
        "        opponent_dists[:,i,j] = np.sqrt(dx**2 + dy**2)\n",
        "    \n",
        "print(\"Tamanho do opponent_dists array:\", opponent_dists.shape)\n",
        "\n",
        "# Encontrar a distância mínima para cada jogador\n",
        "min_opponent_dists = np.zeros((len(player_coords), num_players))\n",
        "\n",
        "for i in range(num_players):\n",
        "    # Encontrar todas as distâncias\n",
        "    opponent_player_dists = opponent_dists[:,i,:]\n",
        "    \n",
        "    # Selecionar o minímo encontrado\n",
        "    min_opponent_dists[:,i] = np.min(opponent_player_dists, axis=1)\n",
        "    \n",
        "print(\"Tamanho do min_opponent_dists array:\", min_opponent_dists.shape)\n",
        "\n",
        "min_opponent_dists_away = min_opponent_dists\n",
        "# Converter de um Array para um dataframe\n",
        "min_opponent_dists_away = pd.DataFrame(min_opponent_dists_away, columns=[f'player_{i+1}_min_dist' for i in range(1, min_opponent_dists_away.shape[1]+1)])\n",
        "# Extrair a coluna dos Frames\n",
        "extracted_column = data[1]\n",
        "# Criar um novo dataset com a coluna extraida e o index do min_opponent_dist_away\n",
        "min_opponent_dists_away2 = pd.DataFrame({'Frame': extracted_column, 'index': min_opponent_dists_away.index})\n",
        "# Unir os dois datasets no Index\n",
        "merged_dataset_away_opp = min_opponent_dists_away.merge(min_opponent_dists_away2, left_index=True, right_on='index', how='right')"
      ],
      "metadata": {
        "id": "59-Mv9sLDARF"
      },
      "execution_count": null,
      "outputs": []
    },
    {
      "cell_type": "code",
      "source": [
        "merged_dataset_away_opp "
      ],
      "metadata": {
        "id": "EIyOvmAvDAOT"
      },
      "execution_count": null,
      "outputs": []
    },
    {
      "cell_type": "markdown",
      "source": [
        "### Calcular largura e profundidade da equipa"
      ],
      "metadata": {
        "id": "AnpgO_4Ifzux"
      }
    },
    {
      "cell_type": "markdown",
      "source": [
        "![image.png](data:image/png;base64,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)"
      ],
      "metadata": {
        "id": "6HOOAOpHRq7A"
      }
    },
    {
      "cell_type": "code",
      "source": [
        "data = dfhome\n",
        "\n",
        "# Extrair os dados de todos os jogadores (excepto o GR)\n",
        "player_coords = data.iloc[:, 4:].values\n",
        "\n",
        "# Calcular o número de jogadores\n",
        "num_players = player_coords.shape[1] // 2\n",
        "\n",
        "# Criamos listas vazias para os dados que pretendemos\n",
        "widths = []\n",
        "lengths = []\n",
        "ratios = []\n",
        "frames = []\n",
        "\n",
        "for frame, group in data.groupby(1):\n",
        "    team = group.iloc[:, 4:].to_numpy()\n",
        "\n",
        "    min_x = np.min(team[:, ::2], axis=1)\n",
        "    max_x = np.max(team[:, ::2], axis=1)\n",
        "    l = max_x - min_x\n",
        "\n",
        "    min_y = np.min(team[:, 1::2], axis=1)\n",
        "    max_y = np.max(team[:, 1::2], axis=1)\n",
        "    w = max_y - min_y\n",
        "\n",
        "    r = l / w\n",
        "\n",
        "    widths.append(w.flatten())\n",
        "    lengths.append(l.flatten())\n",
        "    ratios.append(r.flatten())\n",
        "    frames.append(frame)\n",
        "\n",
        "# Criar um dataframe com toda a informação\n",
        "WidthLength = pd.DataFrame({\n",
        "    'Frame': frames * len(w.flatten()),\n",
        "    'widths': np.concatenate(widths),\n",
        "    'lengths': np.concatenate(lengths),\n",
        "    'ratios': np.concatenate(ratios)    \n",
        "})"
      ],
      "metadata": {
        "id": "boQC2oBrf4UB"
      },
      "execution_count": null,
      "outputs": []
    },
    {
      "cell_type": "code",
      "source": [
        "WidthLength"
      ],
      "metadata": {
        "id": "xH2lfhbrzNRg"
      },
      "execution_count": null,
      "outputs": []
    },
    {
      "cell_type": "markdown",
      "source": [
        "### Criar um dataset com a informação"
      ],
      "metadata": {
        "id": "iqnIx5-QgRzk"
      }
    },
    {
      "cell_type": "code",
      "source": [
        "# Unir os dados dos sprints com os dados táticos baseado no frame\n",
        "results_dfhomeWL = pd.merge(merged_dataset_away_opp, WidthLength, on=['Frame'])\n",
        "results_dfhomeWL"
      ],
      "metadata": {
        "id": "-kwLDmBqgUgd"
      },
      "execution_count": null,
      "outputs": []
    },
    {
      "cell_type": "markdown",
      "source": [
        "### Visualização das posições em campo"
      ],
      "metadata": {
        "id": "woAtvsxi4QSC"
      }
    },
    {
      "cell_type": "code",
      "source": [
        "pip install mplsoccer"
      ],
      "metadata": {
        "id": "nItBPcmBrGbU"
      },
      "execution_count": null,
      "outputs": []
    },
    {
      "cell_type": "code",
      "source": [
        "from mplsoccer import Pitch\n",
        "\n",
        "# Definição dos frames a visualizar\n",
        "dfhome2 = dfhome.iloc[5600:5620]\n",
        "dfhome3 = dfhome.iloc[5600:5601]\n",
        "dfaway2 = dfaway.iloc[5600:5601]\n",
        "dfaway3 = dfaway.iloc[5600:5620]\n",
        "pitch = Pitch(pitch_type='skillcorner', pitch_length=105, pitch_width=68)\n",
        "\n",
        "fig, ax = pitch.draw(figsize=(12,8))\n",
        "\n",
        "\n",
        "# Plot dos jogadores da casa\n",
        "for i in range(2, len(dfhome2.columns), 2):\n",
        "    x = dfhome2.iloc[:, i].values\n",
        "    y = dfhome2.iloc[:, i + 1].values\n",
        "\n",
        "    ax.plot(x, y, color=\"blue\", marker=',') \n",
        "# Plot do ponto inicial dos jogadores da casa\n",
        "for i in range(2, len(dfhome3.columns), 2):\n",
        "    x = dfhome3.iloc[:, i].values\n",
        "    y = dfhome3.iloc[:, i + 1].values\n",
        "\n",
        "    ax.plot(x, y, markeredgecolor= \"black\", marker='.', markersize=10, markerfacecolor='#7f63b8') \n",
        "\n",
        "# Plot dos jogadores da casa\n",
        "for i in range(2, len(dfaway3.columns), 2):\n",
        "    x = dfaway3.iloc[:, i].values\n",
        "    y = dfaway3.iloc[:, i + 1].values\n",
        "\n",
        "    ax.plot(x, y, color=\"red\", marker=',') \n",
        "# Plot do ponto inicial dos jogadores da casa\n",
        "for i in range(2, len(dfaway2.columns), 2):\n",
        "    x = dfaway2.iloc[:, i].values\n",
        "    y = dfaway2.iloc[:, i + 1].values\n",
        "\n",
        "    ax.plot(x, y, markeredgecolor= \"black\", marker='.', markersize=10, markerfacecolor='#b94b75')\n",
        "\n",
        "plt.show()\n"
      ],
      "metadata": {
        "id": "vpdBZtN0rGQ1"
      },
      "execution_count": null,
      "outputs": []
    },
    {
      "cell_type": "code",
      "source": [],
      "metadata": {
        "id": "eT9HfUjsM0J3"
      },
      "execution_count": null,
      "outputs": []
    }
  ]
}